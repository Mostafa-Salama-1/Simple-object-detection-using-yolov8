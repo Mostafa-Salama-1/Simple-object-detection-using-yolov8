{
 "cells": [
  {
   "cell_type": "code",
   "execution_count": 1,
   "id": "237f0e6a-88be-422f-a662-c2b8d5321ede",
   "metadata": {},
   "outputs": [
    {
     "name": "stdout",
     "output_type": "stream",
     "text": [
      "960.0\n",
      "540.0\n"
     ]
    }
   ],
   "source": [
    "import cv2\n",
    "import datetime\n",
    "\n",
    "cap = cv2.VideoCapture(0)\n",
    "cap.set(3, 1200)  # Set frame width to 3000 pixels\n",
    "cap.set(4, 1200)  # Set frame height to 3000 pixels\n",
    "print(cap.get(3))  # Print the actual width\n",
    "print(cap.get(4))  # Print the actual height\n",
    "\n",
    "while cap.isOpened():\n",
    "    ret, frame = cap.read()\n",
    "    if ret:\n",
    "        font = cv2.FONT_HERSHEY_SIMPLEX\n",
    "        text = 'Width: ' + str(cap.get(3)) + ' Height:' + str(cap.get(4))\n",
    "        datet = str(datetime.datetime.now())\n",
    "        \n",
    "        frame = cv2.putText(frame, text, (10, 50), font, 1, (0, 255, 255), 2)\n",
    "        frame = cv2.putText(frame, datet, (10, 100), font, 1, (0, 255, 255), 2)\n",
    "        \n",
    "        cv2.imshow('frame', frame)\n",
    "\n",
    "        # Change waitKey to 10ms to better detect the 'q' key press\n",
    "        if cv2.waitKey(10) & 0xFF == ord('q'):\n",
    "            break\n",
    "    else:\n",
    "        break\n",
    "\n",
    "cap.release()\n",
    "cv2.destroyAllWindows()\n"
   ]
  },
  {
   "cell_type": "code",
   "execution_count": null,
   "id": "8dd95b8a-6666-46ba-8122-bf25d50f9805",
   "metadata": {},
   "outputs": [],
   "source": []
  }
 ],
 "metadata": {
  "kernelspec": {
   "display_name": "Python 3 (ipykernel)",
   "language": "python",
   "name": "python3"
  },
  "language_info": {
   "codemirror_mode": {
    "name": "ipython",
    "version": 3
   },
   "file_extension": ".py",
   "mimetype": "text/x-python",
   "name": "python",
   "nbconvert_exporter": "python",
   "pygments_lexer": "ipython3",
   "version": "3.11.7"
  }
 },
 "nbformat": 4,
 "nbformat_minor": 5
}
